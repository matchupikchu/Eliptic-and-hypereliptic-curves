{
 "cells": [
  {
   "cell_type": "code",
   "execution_count": 2,
   "metadata": {
    "scrolled": true
   },
   "outputs": [
    {
     "name": "stdout",
     "output_type": "stream",
     "text": [
      "(563624 : 291890 : 1)\n",
      "(x^2 + 447007*x + 1018575, 300918*x + 146187)\n",
      "(x^2 + 447007*x + 1018575, y + 747665*x + 902396)\n",
      "(x^2 + 614150*x + 730928, 92667*x + 225175)\n",
      "(x^2 + 614150*x + 730928, y + 955916*x + 823408)\n",
      "(x^2 + 813985*x + 22355, 635324*x + 290174)\n",
      "(x^2 + 813985*x + 22355, y + 413259*x + 758409)\n",
      "(x^2 + 57421*x + 220401, 323833*x + 642271)\n",
      "(x^2 + 57421*x + 220401, y + 724750*x + 406312)\n",
      "(x^2 + 473034*x + 659032, 197219*x + 587585)\n",
      "(x^2 + 473034*x + 659032, y + 851364*x + 460998)\n",
      "(x^2 + 967816*x + 21015, 653329*x + 180634)\n",
      "(x^2 + 967816*x + 21015, y + 395254*x + 867949)\n",
      "(x^2 + 373153*x + 83854, 236135*x + 920514)\n",
      "(x^2 + 373153*x + 83854, y + 812448*x + 128069)\n",
      "(x^2 + 1048420*x + 85276, 58317*x + 703860)\n",
      "(x^2 + 1048420*x + 85276, y + 990266*x + 344723)\n",
      "(x^2 + 828391*x + 452301, 508475*x + 370994)\n",
      "(x^2 + 828391*x + 452301, y + 540108*x + 677589)\n",
      "(x^2 + 136352*x + 890485, 77615*x + 909485)\n",
      "(x^2 + 136352*x + 890485, y + 970968*x + 139098)\n",
      "Drabina przeszla 10 testow\n"
     ]
    }
   ],
   "source": [
    "# Mateusz Chudzik\n",
    "# WCY21KS1S4 \n",
    "\n",
    "from random import randint\n",
    "from time import time\n",
    "\n",
    "def Cantor_half_reduction(D_1, D_2, f, h):\n",
    "\n",
    "    a1 = D_1[0]\n",
    "    a2 = D_2[0]\n",
    "    \n",
    "    b1 = D_1[1]\n",
    "    b2 = D_2[1]\n",
    "    \n",
    "    d1, e1, e2 = xgcd(a1, a2)\n",
    "\n",
    "    d, c1, c2 = xgcd(d1, b1+b2+h)\n",
    "\n",
    "    s1 = c1*e1\n",
    "    s2 = c1*e2 \n",
    "    s3 = c2\n",
    "    \n",
    "    a = R((a1*a2) / (d**2))\n",
    "\n",
    "    b = (R((s1*a1*b2) + (s2*a2*b1) + (s3*(b1*b2 + f))) * d.inverse_mod(a)).mod(a)\n",
    "\n",
    "    return R(a), R(b)\n",
    "\n",
    "def Cantor_reduction(D, f, g):\n",
    "    a = D[0]\n",
    "    b = D[1]\n",
    "    \n",
    "    h = 0\n",
    "    \n",
    "    a_prim = R(R(f - (b*h) - (b**2)) / R(a))\n",
    "    b_prim = R((-h - b)).mod(a_prim)\n",
    "\n",
    "    deg_a_prim = R(a_prim).degree()\n",
    "\n",
    "    while deg_a_prim > g:\n",
    "\n",
    "        a_prim = R(R(f - (b*h) - (b^2)) / R(a))\n",
    "        b_prim = R((-h - b)).mod(a_prim)\n",
    "        \n",
    "        a = a_prim\n",
    "        b = b_prim\n",
    "\n",
    "        deg_a_prim = R(a_prim).degree()\n",
    "\n",
    "    return R(a_prim / a_prim.coefficients()[-1]), R(b_prim)\n",
    "    \n",
    "def Montgomery_ladder(D, k, f, g, h):\n",
    "    R0 = D\n",
    "    R1 = Cantor_half_reduction(D, D, f, h)\n",
    "    a, b = R1\n",
    "    if a.degree() > g:\n",
    "        R1 = Cantor_reduction(R1, f, g)\n",
    "    K = bin(k)[3:]\n",
    "    for i in range(0, len(K)):\n",
    "        if K[i] == '1':\n",
    "            R0 = Cantor_half_reduction(R1, R0, f, h)\n",
    "            a, b = R0\n",
    "            if a.degree() > g:\n",
    "                R0 = Cantor_reduction(R0, f, g)\n",
    "            \n",
    "            R1 = Cantor_half_reduction(R1, R1, f, h)\n",
    "            a, b = R1\n",
    "            if a.degree() > g:\n",
    "                R1 = Cantor_reduction(R1, f, g)\n",
    "        else:\n",
    "            R1 = Cantor_half_reduction(R0, R1, f, h)\n",
    "            a, b = R1\n",
    "            if a.degree() > g:\n",
    "                R1 = Cantor_reduction(R1, f, g)\n",
    "                \n",
    "            R0 = Cantor_half_reduction(R0, R0, f, h)\n",
    "            a, b = R0\n",
    "            if a.degree() > g:\n",
    "                R0 = Cantor_reduction(R0, f, g)\n",
    "\n",
    "    return R0\n",
    "\n",
    "def unit_test(D, f, g, h, ord, n):\n",
    "    \n",
    "    \n",
    "    k = 0\n",
    "    counter = 0\n",
    "    \n",
    "    for i in range(n):\n",
    "        k = randint(2, ord)\n",
    "        a = Montgomery_ladder(D, k, f, g, h)\n",
    "        b = k * D\n",
    "        \n",
    "        print(a)\n",
    "        print(b)\n",
    "        \n",
    "        if a[0] == b[0] and a[1] == b[1]:\n",
    "            counter += 1\n",
    "    \n",
    "    print(\"Drabina przeszla \" + str(n) + \" testow\")\n",
    "        \n",
    "        \n",
    "p = 1048583\n",
    "F = GF(p)\n",
    "R.<x> = F[]\n",
    "\n",
    "X = 563624\n",
    "Y = 291890\n",
    "\n",
    "f = x^5 + 812044*x^4 + 543246*x^3 + 230741*x^2 + 825190*x + 633221\n",
    "\n",
    "\n",
    "C =  HyperellipticCurve(f)                                                 \n",
    "J = C.jacobian()                                                          \n",
    "JJ = J(F)\n",
    "ord = 1099305873793\n",
    "P = C([X, Y])\n",
    "D = JJ(P)\n",
    "print(P)\n",
    "h = 0\n",
    "g = C.genus()\n",
    "n = 10\n",
    "\n",
    "D_prim = Cantor_half_reduction(D, D, f, h)\n",
    "D_reducted = Cantor_reduction(D_prim, f, g)\n",
    "\n",
    "a, b = D_reducted\n",
    "\n",
    "\n",
    "unit_test(D, f, g, h, ord, n)\n",
    "\n"
   ]
  },
  {
   "cell_type": "code",
   "execution_count": 3,
   "metadata": {},
   "outputs": [
    {
     "data": {
      "text/plain": [
       "1048583"
      ]
     },
     "execution_count": 3,
     "metadata": {},
     "output_type": "execute_result"
    }
   ],
   "source": [
    "747665 + 300918"
   ]
  },
  {
   "cell_type": "code",
   "execution_count": 4,
   "metadata": {},
   "outputs": [
    {
     "data": {
      "text/plain": [
       "1048583"
      ]
     },
     "execution_count": 4,
     "metadata": {},
     "output_type": "execute_result"
    }
   ],
   "source": [
    "146187 + 902396"
   ]
  },
  {
   "cell_type": "code",
   "execution_count": 51,
   "metadata": {},
   "outputs": [],
   "source": [
    "r = randint(2, ord)\n",
    "r\n",
    "D_P = JJ(P)\n",
    "D_Q = JJ(Q)\n",
    "\n",
    "div_f = r * D_P\n",
    "div_g = r * D_Q\n"
   ]
  },
  {
   "cell_type": "code",
   "execution_count": 42,
   "metadata": {},
   "outputs": [
    {
     "data": {
      "text/plain": [
       "True"
      ]
     },
     "execution_count": 42,
     "metadata": {},
     "output_type": "execute_result"
    }
   ],
   "source": []
  },
  {
   "cell_type": "code",
   "execution_count": 41,
   "metadata": {},
   "outputs": [
    {
     "data": {
      "text/plain": [
       "1048583"
      ]
     },
     "execution_count": 41,
     "metadata": {},
     "output_type": "execute_result"
    }
   ],
   "source": []
  },
  {
   "cell_type": "code",
   "execution_count": null,
   "metadata": {},
   "outputs": [],
   "source": []
  }
 ],
 "metadata": {
  "kernelspec": {
   "display_name": "SageMath 9.3",
   "language": "sage",
   "name": "sagemath"
  },
  "language_info": {
   "codemirror_mode": {
    "name": "ipython",
    "version": 3
   },
   "file_extension": ".py",
   "mimetype": "text/x-python",
   "name": "python",
   "nbconvert_exporter": "python",
   "pygments_lexer": "ipython3",
   "version": "3.7.10"
  }
 },
 "nbformat": 4,
 "nbformat_minor": 4
}
